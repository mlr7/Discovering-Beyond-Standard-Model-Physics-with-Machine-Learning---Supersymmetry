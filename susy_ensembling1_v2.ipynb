{
 "cells": [
  {
   "cell_type": "code",
   "execution_count": null,
   "id": "7ee7814e",
   "metadata": {},
   "outputs": [],
   "source": []
  },
  {
   "cell_type": "code",
   "execution_count": 1,
   "id": "e386b159",
   "metadata": {},
   "outputs": [],
   "source": [
    "import numpy as np\n",
    "import pandas as pd"
   ]
  },
  {
   "cell_type": "code",
   "execution_count": 2,
   "id": "bd269f53",
   "metadata": {},
   "outputs": [
    {
     "name": "stdout",
     "output_type": "stream",
     "text": [
      "(50000, 19)\n",
      "Index(['SUSY', 'lepton 1 pT', 'lepton 1 eta', 'lepton 1 phi', 'lepton 2 pT',\n",
      "       'lepton 2 eta', 'lepton 2 phi', 'missing energy magnitude',\n",
      "       'missing energy phi', 'MET_rel', 'axial MET', 'M_R', 'M_TR_2', 'R',\n",
      "       'MT2', 'S_R', 'M_Delta_R', 'dPhi_r_b', 'cos(theta_r1)'],\n",
      "      dtype='object')\n"
     ]
    },
    {
     "data": {
      "text/html": [
       "<div>\n",
       "<style scoped>\n",
       "    .dataframe tbody tr th:only-of-type {\n",
       "        vertical-align: middle;\n",
       "    }\n",
       "\n",
       "    .dataframe tbody tr th {\n",
       "        vertical-align: top;\n",
       "    }\n",
       "\n",
       "    .dataframe thead th {\n",
       "        text-align: right;\n",
       "    }\n",
       "</style>\n",
       "<table border=\"1\" class=\"dataframe\">\n",
       "  <thead>\n",
       "    <tr style=\"text-align: right;\">\n",
       "      <th></th>\n",
       "      <th>SUSY</th>\n",
       "      <th>lepton 1 pT</th>\n",
       "      <th>lepton 1 eta</th>\n",
       "      <th>lepton 1 phi</th>\n",
       "      <th>lepton 2 pT</th>\n",
       "      <th>lepton 2 eta</th>\n",
       "      <th>lepton 2 phi</th>\n",
       "      <th>missing energy magnitude</th>\n",
       "      <th>missing energy phi</th>\n",
       "      <th>MET_rel</th>\n",
       "      <th>axial MET</th>\n",
       "      <th>M_R</th>\n",
       "      <th>M_TR_2</th>\n",
       "      <th>R</th>\n",
       "      <th>MT2</th>\n",
       "      <th>S_R</th>\n",
       "      <th>M_Delta_R</th>\n",
       "      <th>dPhi_r_b</th>\n",
       "      <th>cos(theta_r1)</th>\n",
       "    </tr>\n",
       "  </thead>\n",
       "  <tbody>\n",
       "    <tr>\n",
       "      <th>0</th>\n",
       "      <td>0.0</td>\n",
       "      <td>0.972861</td>\n",
       "      <td>0.653855</td>\n",
       "      <td>1.176225</td>\n",
       "      <td>1.157156</td>\n",
       "      <td>-1.739873</td>\n",
       "      <td>-0.874309</td>\n",
       "      <td>0.567765</td>\n",
       "      <td>-0.175000</td>\n",
       "      <td>0.810061</td>\n",
       "      <td>-0.252552</td>\n",
       "      <td>1.921887</td>\n",
       "      <td>0.889637</td>\n",
       "      <td>0.410772</td>\n",
       "      <td>1.145621</td>\n",
       "      <td>1.932632</td>\n",
       "      <td>0.994464</td>\n",
       "      <td>1.367815</td>\n",
       "      <td>0.040714</td>\n",
       "    </tr>\n",
       "    <tr>\n",
       "      <th>1</th>\n",
       "      <td>1.0</td>\n",
       "      <td>1.667973</td>\n",
       "      <td>0.064191</td>\n",
       "      <td>-1.225171</td>\n",
       "      <td>0.506102</td>\n",
       "      <td>-0.338939</td>\n",
       "      <td>1.672543</td>\n",
       "      <td>3.475464</td>\n",
       "      <td>-1.219136</td>\n",
       "      <td>0.012955</td>\n",
       "      <td>3.775174</td>\n",
       "      <td>1.045977</td>\n",
       "      <td>0.568051</td>\n",
       "      <td>0.481928</td>\n",
       "      <td>0.000000</td>\n",
       "      <td>0.448410</td>\n",
       "      <td>0.205356</td>\n",
       "      <td>1.321893</td>\n",
       "      <td>0.377584</td>\n",
       "    </tr>\n",
       "    <tr>\n",
       "      <th>2</th>\n",
       "      <td>1.0</td>\n",
       "      <td>0.444840</td>\n",
       "      <td>-0.134298</td>\n",
       "      <td>-0.709972</td>\n",
       "      <td>0.451719</td>\n",
       "      <td>-1.613871</td>\n",
       "      <td>-0.768661</td>\n",
       "      <td>1.219918</td>\n",
       "      <td>0.504026</td>\n",
       "      <td>1.831248</td>\n",
       "      <td>-0.431385</td>\n",
       "      <td>0.526283</td>\n",
       "      <td>0.941514</td>\n",
       "      <td>1.587535</td>\n",
       "      <td>2.024308</td>\n",
       "      <td>0.603498</td>\n",
       "      <td>1.562374</td>\n",
       "      <td>1.135454</td>\n",
       "      <td>0.180910</td>\n",
       "    </tr>\n",
       "    <tr>\n",
       "      <th>3</th>\n",
       "      <td>1.0</td>\n",
       "      <td>0.381256</td>\n",
       "      <td>-0.976145</td>\n",
       "      <td>0.693152</td>\n",
       "      <td>0.448959</td>\n",
       "      <td>0.891753</td>\n",
       "      <td>-0.677328</td>\n",
       "      <td>2.033060</td>\n",
       "      <td>1.533041</td>\n",
       "      <td>3.046260</td>\n",
       "      <td>-1.005285</td>\n",
       "      <td>0.569386</td>\n",
       "      <td>1.015211</td>\n",
       "      <td>1.582217</td>\n",
       "      <td>1.551914</td>\n",
       "      <td>0.761215</td>\n",
       "      <td>1.715464</td>\n",
       "      <td>1.492257</td>\n",
       "      <td>0.090719</td>\n",
       "    </tr>\n",
       "    <tr>\n",
       "      <th>4</th>\n",
       "      <td>1.0</td>\n",
       "      <td>1.309996</td>\n",
       "      <td>-0.690089</td>\n",
       "      <td>-0.676259</td>\n",
       "      <td>1.589283</td>\n",
       "      <td>-0.693326</td>\n",
       "      <td>0.622907</td>\n",
       "      <td>1.087562</td>\n",
       "      <td>-0.381742</td>\n",
       "      <td>0.589204</td>\n",
       "      <td>1.365479</td>\n",
       "      <td>1.179295</td>\n",
       "      <td>0.968218</td>\n",
       "      <td>0.728563</td>\n",
       "      <td>0.000000</td>\n",
       "      <td>1.083158</td>\n",
       "      <td>0.043429</td>\n",
       "      <td>1.154854</td>\n",
       "      <td>0.094859</td>\n",
       "    </tr>\n",
       "  </tbody>\n",
       "</table>\n",
       "</div>"
      ],
      "text/plain": [
       "   SUSY  lepton 1 pT  lepton 1 eta  lepton 1 phi  lepton 2 pT  lepton 2 eta  \\\n",
       "0   0.0     0.972861      0.653855      1.176225     1.157156     -1.739873   \n",
       "1   1.0     1.667973      0.064191     -1.225171     0.506102     -0.338939   \n",
       "2   1.0     0.444840     -0.134298     -0.709972     0.451719     -1.613871   \n",
       "3   1.0     0.381256     -0.976145      0.693152     0.448959      0.891753   \n",
       "4   1.0     1.309996     -0.690089     -0.676259     1.589283     -0.693326   \n",
       "\n",
       "   lepton 2 phi  missing energy magnitude  missing energy phi   MET_rel  \\\n",
       "0     -0.874309                  0.567765           -0.175000  0.810061   \n",
       "1      1.672543                  3.475464           -1.219136  0.012955   \n",
       "2     -0.768661                  1.219918            0.504026  1.831248   \n",
       "3     -0.677328                  2.033060            1.533041  3.046260   \n",
       "4      0.622907                  1.087562           -0.381742  0.589204   \n",
       "\n",
       "   axial MET       M_R    M_TR_2         R       MT2       S_R  M_Delta_R  \\\n",
       "0  -0.252552  1.921887  0.889637  0.410772  1.145621  1.932632   0.994464   \n",
       "1   3.775174  1.045977  0.568051  0.481928  0.000000  0.448410   0.205356   \n",
       "2  -0.431385  0.526283  0.941514  1.587535  2.024308  0.603498   1.562374   \n",
       "3  -1.005285  0.569386  1.015211  1.582217  1.551914  0.761215   1.715464   \n",
       "4   1.365479  1.179295  0.968218  0.728563  0.000000  1.083158   0.043429   \n",
       "\n",
       "   dPhi_r_b  cos(theta_r1)  \n",
       "0  1.367815       0.040714  \n",
       "1  1.321893       0.377584  \n",
       "2  1.135454       0.180910  \n",
       "3  1.492257       0.090719  \n",
       "4  1.154854       0.094859  "
      ]
     },
     "metadata": {},
     "output_type": "display_data"
    },
    {
     "name": "stdout",
     "output_type": "stream",
     "text": [
      "(5000, 19)\n",
      "Index(['SUSY', 'lepton 1 pT', 'lepton 1 eta', 'lepton 1 phi', 'lepton 2 pT',\n",
      "       'lepton 2 eta', 'lepton 2 phi', 'missing energy magnitude',\n",
      "       'missing energy phi', 'MET_rel', 'axial MET', 'M_R', 'M_TR_2', 'R',\n",
      "       'MT2', 'S_R', 'M_Delta_R', 'dPhi_r_b', 'cos(theta_r1)'],\n",
      "      dtype='object')\n"
     ]
    },
    {
     "data": {
      "text/html": [
       "<div>\n",
       "<style scoped>\n",
       "    .dataframe tbody tr th:only-of-type {\n",
       "        vertical-align: middle;\n",
       "    }\n",
       "\n",
       "    .dataframe tbody tr th {\n",
       "        vertical-align: top;\n",
       "    }\n",
       "\n",
       "    .dataframe thead th {\n",
       "        text-align: right;\n",
       "    }\n",
       "</style>\n",
       "<table border=\"1\" class=\"dataframe\">\n",
       "  <thead>\n",
       "    <tr style=\"text-align: right;\">\n",
       "      <th></th>\n",
       "      <th>SUSY</th>\n",
       "      <th>lepton 1 pT</th>\n",
       "      <th>lepton 1 eta</th>\n",
       "      <th>lepton 1 phi</th>\n",
       "      <th>lepton 2 pT</th>\n",
       "      <th>lepton 2 eta</th>\n",
       "      <th>lepton 2 phi</th>\n",
       "      <th>missing energy magnitude</th>\n",
       "      <th>missing energy phi</th>\n",
       "      <th>MET_rel</th>\n",
       "      <th>axial MET</th>\n",
       "      <th>M_R</th>\n",
       "      <th>M_TR_2</th>\n",
       "      <th>R</th>\n",
       "      <th>MT2</th>\n",
       "      <th>S_R</th>\n",
       "      <th>M_Delta_R</th>\n",
       "      <th>dPhi_r_b</th>\n",
       "      <th>cos(theta_r1)</th>\n",
       "    </tr>\n",
       "  </thead>\n",
       "  <tbody>\n",
       "    <tr>\n",
       "      <th>39386</th>\n",
       "      <td>0.0</td>\n",
       "      <td>1.420283</td>\n",
       "      <td>0.518138</td>\n",
       "      <td>-1.175688</td>\n",
       "      <td>2.131594</td>\n",
       "      <td>-0.529519</td>\n",
       "      <td>0.708763</td>\n",
       "      <td>0.820501</td>\n",
       "      <td>0.555170</td>\n",
       "      <td>0.351900</td>\n",
       "      <td>-0.116203</td>\n",
       "      <td>1.692847</td>\n",
       "      <td>1.225943</td>\n",
       "      <td>0.642642</td>\n",
       "      <td>0.563115</td>\n",
       "      <td>1.714092</td>\n",
       "      <td>0.679696</td>\n",
       "      <td>1.219496</td>\n",
       "      <td>0.134184</td>\n",
       "    </tr>\n",
       "    <tr>\n",
       "      <th>36704</th>\n",
       "      <td>1.0</td>\n",
       "      <td>1.025175</td>\n",
       "      <td>0.111274</td>\n",
       "      <td>-1.551477</td>\n",
       "      <td>1.472043</td>\n",
       "      <td>0.640841</td>\n",
       "      <td>0.601812</td>\n",
       "      <td>0.823051</td>\n",
       "      <td>-0.358442</td>\n",
       "      <td>1.235502</td>\n",
       "      <td>-0.510618</td>\n",
       "      <td>1.045531</td>\n",
       "      <td>1.167580</td>\n",
       "      <td>0.990986</td>\n",
       "      <td>1.863661</td>\n",
       "      <td>1.069398</td>\n",
       "      <td>1.398240</td>\n",
       "      <td>1.588433</td>\n",
       "      <td>0.087495</td>\n",
       "    </tr>\n",
       "    <tr>\n",
       "      <th>26517</th>\n",
       "      <td>1.0</td>\n",
       "      <td>1.153854</td>\n",
       "      <td>-1.020714</td>\n",
       "      <td>1.105525</td>\n",
       "      <td>1.533419</td>\n",
       "      <td>-0.541154</td>\n",
       "      <td>-0.843066</td>\n",
       "      <td>2.595815</td>\n",
       "      <td>-1.260232</td>\n",
       "      <td>2.707505</td>\n",
       "      <td>1.385840</td>\n",
       "      <td>1.121607</td>\n",
       "      <td>1.755281</td>\n",
       "      <td>1.388744</td>\n",
       "      <td>0.000000</td>\n",
       "      <td>1.258837</td>\n",
       "      <td>1.399452</td>\n",
       "      <td>1.417780</td>\n",
       "      <td>0.376795</td>\n",
       "    </tr>\n",
       "    <tr>\n",
       "      <th>34047</th>\n",
       "      <td>1.0</td>\n",
       "      <td>1.300703</td>\n",
       "      <td>-1.034337</td>\n",
       "      <td>0.015398</td>\n",
       "      <td>0.970932</td>\n",
       "      <td>-1.052188</td>\n",
       "      <td>-1.342990</td>\n",
       "      <td>1.915734</td>\n",
       "      <td>-1.165418</td>\n",
       "      <td>0.874859</td>\n",
       "      <td>-0.025010</td>\n",
       "      <td>0.982442</td>\n",
       "      <td>1.573718</td>\n",
       "      <td>1.421476</td>\n",
       "      <td>0.000000</td>\n",
       "      <td>1.054996</td>\n",
       "      <td>0.301954</td>\n",
       "      <td>1.149184</td>\n",
       "      <td>0.578103</td>\n",
       "    </tr>\n",
       "    <tr>\n",
       "      <th>31857</th>\n",
       "      <td>1.0</td>\n",
       "      <td>0.333320</td>\n",
       "      <td>-0.610450</td>\n",
       "      <td>-0.575183</td>\n",
       "      <td>0.441495</td>\n",
       "      <td>-0.808869</td>\n",
       "      <td>1.413805</td>\n",
       "      <td>0.667815</td>\n",
       "      <td>0.721858</td>\n",
       "      <td>0.955895</td>\n",
       "      <td>-0.353194</td>\n",
       "      <td>0.314122</td>\n",
       "      <td>0.562291</td>\n",
       "      <td>1.588471</td>\n",
       "      <td>0.688642</td>\n",
       "      <td>0.374657</td>\n",
       "      <td>0.625931</td>\n",
       "      <td>1.576329</td>\n",
       "      <td>0.338255</td>\n",
       "    </tr>\n",
       "  </tbody>\n",
       "</table>\n",
       "</div>"
      ],
      "text/plain": [
       "       SUSY  lepton 1 pT  lepton 1 eta  lepton 1 phi  lepton 2 pT  \\\n",
       "39386   0.0     1.420283      0.518138     -1.175688     2.131594   \n",
       "36704   1.0     1.025175      0.111274     -1.551477     1.472043   \n",
       "26517   1.0     1.153854     -1.020714      1.105525     1.533419   \n",
       "34047   1.0     1.300703     -1.034337      0.015398     0.970932   \n",
       "31857   1.0     0.333320     -0.610450     -0.575183     0.441495   \n",
       "\n",
       "       lepton 2 eta  lepton 2 phi  missing energy magnitude  \\\n",
       "39386     -0.529519      0.708763                  0.820501   \n",
       "36704      0.640841      0.601812                  0.823051   \n",
       "26517     -0.541154     -0.843066                  2.595815   \n",
       "34047     -1.052188     -1.342990                  1.915734   \n",
       "31857     -0.808869      1.413805                  0.667815   \n",
       "\n",
       "       missing energy phi   MET_rel  axial MET       M_R    M_TR_2         R  \\\n",
       "39386            0.555170  0.351900  -0.116203  1.692847  1.225943  0.642642   \n",
       "36704           -0.358442  1.235502  -0.510618  1.045531  1.167580  0.990986   \n",
       "26517           -1.260232  2.707505   1.385840  1.121607  1.755281  1.388744   \n",
       "34047           -1.165418  0.874859  -0.025010  0.982442  1.573718  1.421476   \n",
       "31857            0.721858  0.955895  -0.353194  0.314122  0.562291  1.588471   \n",
       "\n",
       "            MT2       S_R  M_Delta_R  dPhi_r_b  cos(theta_r1)  \n",
       "39386  0.563115  1.714092   0.679696  1.219496       0.134184  \n",
       "36704  1.863661  1.069398   1.398240  1.588433       0.087495  \n",
       "26517  0.000000  1.258837   1.399452  1.417780       0.376795  \n",
       "34047  0.000000  1.054996   0.301954  1.149184       0.578103  \n",
       "31857  0.688642  0.374657   0.625931  1.576329       0.338255  "
      ]
     },
     "metadata": {},
     "output_type": "display_data"
    }
   ],
   "source": [
    "df = pd.read_csv('./data_in/data_susy50K.csv')\n",
    "\n",
    "print(df.shape)\n",
    "print(df.columns)\n",
    "display(df.head(5))\n",
    "\n",
    "# reduced data size for training speed:\n",
    "df = df.sample(5000)\n",
    "print(df.shape)\n",
    "print(df.columns)\n",
    "display(df.head(5))"
   ]
  },
  {
   "cell_type": "code",
   "execution_count": 3,
   "id": "0f6371af",
   "metadata": {},
   "outputs": [
    {
     "name": "stdout",
     "output_type": "stream",
     "text": [
      "(5000, 19) (5000, 18) (5000, 1)\n"
     ]
    }
   ],
   "source": [
    "df_X = df[['lepton 1 pT', 'lepton 1 eta', 'lepton 1 phi', 'lepton 2 pT',\n",
    "       'lepton 2 eta', 'lepton 2 phi', 'missing energy magnitude',\n",
    "       'missing energy phi', 'MET_rel', 'axial MET', 'M_R', 'M_TR_2', 'R',\n",
    "       'MT2', 'S_R', 'M_Delta_R', 'dPhi_r_b', 'cos(theta_r1)']]\n",
    "\n",
    "df_y = df[['SUSY']]\n",
    "\n",
    "print(df.shape, df_X.shape, df_y.shape)"
   ]
  },
  {
   "cell_type": "code",
   "execution_count": 4,
   "id": "4b042b40",
   "metadata": {},
   "outputs": [],
   "source": [
    "X = df_X.values\n",
    "y = df_y.values"
   ]
  },
  {
   "cell_type": "code",
   "execution_count": 5,
   "id": "a8603aab",
   "metadata": {},
   "outputs": [],
   "source": [
    "from sklearn.model_selection import train_test_split"
   ]
  },
  {
   "cell_type": "code",
   "execution_count": 6,
   "id": "cdc59d40",
   "metadata": {},
   "outputs": [
    {
     "name": "stdout",
     "output_type": "stream",
     "text": [
      "(5000, 18) (5000, 1)\n",
      "(3350, 18) (3350, 1) (1650, 18) (1650, 1)\n"
     ]
    }
   ],
   "source": [
    "X_train, X_test, y_train, y_test = train_test_split(X, y, test_size=0.33, random_state=0)\n",
    "\n",
    "print(X.shape, y.shape)\n",
    "print(X_train.shape, y_train.shape, X_test.shape, y_test.shape)"
   ]
  },
  {
   "cell_type": "code",
   "execution_count": 25,
   "id": "18d0a8d3",
   "metadata": {},
   "outputs": [],
   "source": [
    "from sklearn.svm import SVC\n",
    "from sklearn.linear_model import LogisticRegression\n",
    "\n",
    "from sklearn.ensemble import RandomForestClassifier\n",
    "from sklearn import tree\n",
    "import xgboost as xgb\n",
    "\n",
    "from sklearn.neighbors import KNeighborsClassifier\n",
    "from sklearn.metrics import log_loss, roc_auc_score, accuracy_score\n"
   ]
  },
  {
   "cell_type": "code",
   "execution_count": 43,
   "id": "bc107221",
   "metadata": {},
   "outputs": [],
   "source": [
    "model_1 = SVC(probability=True, random_state=0)\n",
    "#model_1 = LogisticRegression()\n",
    "\n",
    "#model_2 = RandomForestClassifier(random_state=0)\n",
    "model_2 = tree.DecisionTreeClassifier()\n",
    "\n",
    "model_3 = KNeighborsClassifier()"
   ]
  },
  {
   "cell_type": "code",
   "execution_count": 44,
   "id": "f2ab6d76",
   "metadata": {},
   "outputs": [
    {
     "name": "stderr",
     "output_type": "stream",
     "text": [
      "C:\\Users\\m85302\\Anaconda3b\\lib\\site-packages\\sklearn\\utils\\validation.py:63: DataConversionWarning: A column-vector y was passed when a 1d array was expected. Please change the shape of y to (n_samples, ), for example using ravel().\n",
      "  return f(*args, **kwargs)\n",
      "C:\\Users\\m85302\\Anaconda3b\\lib\\site-packages\\sklearn\\neighbors\\_classification.py:179: DataConversionWarning: A column-vector y was passed when a 1d array was expected. Please change the shape of y to (n_samples,), for example using ravel().\n",
      "  return self._fit(X, y)\n"
     ]
    },
    {
     "data": {
      "text/plain": [
       "KNeighborsClassifier()"
      ]
     },
     "execution_count": 44,
     "metadata": {},
     "output_type": "execute_result"
    }
   ],
   "source": [
    "model_1.fit(X_train, y_train)\n",
    "model_2.fit(X_train, y_train)\n",
    "model_3.fit(X_train, y_train)"
   ]
  },
  {
   "cell_type": "code",
   "execution_count": 45,
   "id": "f74aec71",
   "metadata": {},
   "outputs": [],
   "source": [
    "import numpy as np\n",
    "from scipy.stats import mode"
   ]
  },
  {
   "cell_type": "code",
   "execution_count": 46,
   "id": "cc8b1cc5",
   "metadata": {},
   "outputs": [],
   "source": [
    "preds = np.stack([model_1.predict(X_test),\n",
    "                  model_2.predict(X_test),\n",
    "                  model_3.predict(X_test)]).T\n",
    "\n",
    "max_voting = np.apply_along_axis(mode, 1, preds)[:,0]"
   ]
  },
  {
   "cell_type": "code",
   "execution_count": 47,
   "id": "0e110e61",
   "metadata": {},
   "outputs": [
    {
     "name": "stdout",
     "output_type": "stream",
     "text": [
      "0.33\n"
     ]
    }
   ],
   "source": [
    "discordant = np.sum(np.var(preds, axis=1) > 0) / len(y_test)\n",
    "print(f\"{discordant:0.2f}\") "
   ]
  },
  {
   "cell_type": "code",
   "execution_count": 48,
   "id": "fe1e90cb",
   "metadata": {},
   "outputs": [
    {
     "name": "stdout",
     "output_type": "stream",
     "text": [
      "Accuracy for model SVC is: 0.782\n",
      "Accuracy for model Tree  is: 0.703\n",
      "Accuracy for model KNN is: 0.733\n"
     ]
    }
   ],
   "source": [
    "#for i, model in enumerate(['SVC', 'RF ', 'KNN']):\n",
    "for i, model in enumerate(['SVC', 'Tree ', 'KNN']):\n",
    "    acc = accuracy_score(y_true=y_test, y_pred=preds[:, i])\n",
    "    print(f\"Accuracy for model {model} is: {acc:0.3f}\")"
   ]
  },
  {
   "cell_type": "markdown",
   "id": "b05e2dc7",
   "metadata": {},
   "source": [
    "### Majority Voting"
   ]
  },
  {
   "cell_type": "code",
   "execution_count": 49,
   "id": "aa9bccd9",
   "metadata": {},
   "outputs": [
    {
     "name": "stdout",
     "output_type": "stream",
     "text": [
      "Accuracy for majority voting is: 0.771\n"
     ]
    }
   ],
   "source": [
    "max_voting_accuray = accuracy_score(y_true=y_test, y_pred=max_voting)\n",
    "print(f\"Accuracy for majority voting is: {max_voting_accuray:0.3f}\")"
   ]
  },
  {
   "cell_type": "markdown",
   "id": "f977e1d6",
   "metadata": {},
   "source": [
    "### Averaging"
   ]
  },
  {
   "cell_type": "code",
   "execution_count": 50,
   "id": "0630e4f3",
   "metadata": {},
   "outputs": [],
   "source": [
    "proba = np.stack([model_1.predict_proba(X_test)[:, 1],\n",
    "                  model_2.predict_proba(X_test)[:, 1],\n",
    "                  model_3.predict_proba(X_test)[:, 1]]).T"
   ]
  },
  {
   "cell_type": "code",
   "execution_count": 51,
   "id": "f7dce634",
   "metadata": {},
   "outputs": [
    {
     "name": "stdout",
     "output_type": "stream",
     "text": [
      "ROC-AUC for model SVC is: 0.85815\n",
      "ROC-AUC for model Tree  is: 0.70155\n",
      "ROC-AUC for model KNN is: 0.78648\n"
     ]
    }
   ],
   "source": [
    "for i, model in enumerate(['SVC', 'Tree ', 'KNN']):\n",
    "    ras = roc_auc_score(y_true=y_test, y_score=proba[:, i])\n",
    "    print(f\"ROC-AUC for model {model} is: {ras:0.5f}\")"
   ]
  },
  {
   "cell_type": "code",
   "execution_count": 52,
   "id": "c6516ddc",
   "metadata": {},
   "outputs": [
    {
     "name": "stdout",
     "output_type": "stream",
     "text": [
      "Mean averaging ROC-AUC is: 0.82694\n"
     ]
    }
   ],
   "source": [
    "arithmetic = proba.mean(axis=1)\n",
    "ras = roc_auc_score(y_true=y_test, y_score=arithmetic)\n",
    "print(f\"Mean averaging ROC-AUC is: {ras:0.5f}\")"
   ]
  },
  {
   "cell_type": "code",
   "execution_count": 53,
   "id": "45c55b50",
   "metadata": {},
   "outputs": [
    {
     "name": "stdout",
     "output_type": "stream",
     "text": [
      "Geometric averaging ROC-AUC is: 0.76888\n"
     ]
    }
   ],
   "source": [
    "geometric = proba.prod(axis=1)**(1/3)\n",
    "ras = roc_auc_score(y_true=y_test, y_score=geometric)\n",
    "print(f\"Geometric averaging ROC-AUC is: {ras:0.5f}\")"
   ]
  },
  {
   "cell_type": "code",
   "execution_count": 54,
   "id": "0f4213d5",
   "metadata": {},
   "outputs": [
    {
     "name": "stdout",
     "output_type": "stream",
     "text": [
      "Geometric averaging ROC-AUC is: 0.82558\n"
     ]
    }
   ],
   "source": [
    "harmonic = 1 / np.mean(1. / (proba + 0.00001), axis=1)\n",
    "ras = roc_auc_score(y_true=y_test, y_score=harmonic)\n",
    "print(f\"Geometric averaging ROC-AUC is: {ras:0.5f}\")"
   ]
  },
  {
   "cell_type": "code",
   "execution_count": 55,
   "id": "b9f51e65",
   "metadata": {},
   "outputs": [
    {
     "name": "stdout",
     "output_type": "stream",
     "text": [
      "Mean of powers averaging ROC-AUC is: 0.82675\n"
     ]
    }
   ],
   "source": [
    "n = 3\n",
    "mean_of_powers = np.mean(proba**n, axis=1)**(1/n)\n",
    "ras = roc_auc_score(y_true=y_test, y_score=mean_of_powers)\n",
    "print(f\"Mean of powers averaging ROC-AUC is: {ras:0.5f}\")"
   ]
  },
  {
   "cell_type": "code",
   "execution_count": 39,
   "id": "e977f6a7",
   "metadata": {},
   "outputs": [
    {
     "name": "stdout",
     "output_type": "stream",
     "text": [
      "Logarithmic averaging ROC-AUC is: 0.82442\n"
     ]
    }
   ],
   "source": [
    "logarithmic = np.expm1(np.mean(np.log1p(proba), axis=1))\n",
    "ras = roc_auc_score(y_true=y_test, y_score=logarithmic)\n",
    "print(f\"Logarithmic averaging ROC-AUC is: {ras:0.5f}\")"
   ]
  },
  {
   "cell_type": "markdown",
   "id": "1475a219",
   "metadata": {},
   "source": [
    "#### For reference"
   ]
  },
  {
   "cell_type": "code",
   "execution_count": 22,
   "id": "c42d5ad0",
   "metadata": {},
   "outputs": [
    {
     "name": "stderr",
     "output_type": "stream",
     "text": [
      "C:\\Users\\m85302\\AppData\\Local\\Temp/ipykernel_11488/649794515.py:2: DataConversionWarning: A column-vector y was passed when a 1d array was expected. Please change the shape of y to (n_samples,), for example using ravel().\n",
      "  clf_rf.fit(X_train, y_train)\n"
     ]
    },
    {
     "data": {
      "text/plain": [
       "0.777822165406058"
      ]
     },
     "execution_count": 22,
     "metadata": {},
     "output_type": "execute_result"
    }
   ],
   "source": [
    "clf_rf = RandomForestClassifier(random_state=0)\n",
    "clf_rf.fit(X_train, y_train)\n",
    "y_pred_rf = clf_rf.predict(X_test)\n",
    "roc_auc_score(y_test, y_pred_rf)"
   ]
  },
  {
   "cell_type": "code",
   "execution_count": 23,
   "id": "17d25927",
   "metadata": {},
   "outputs": [
    {
     "name": "stderr",
     "output_type": "stream",
     "text": [
      "C:\\Users\\m85302\\Anaconda3b\\lib\\site-packages\\xgboost\\sklearn.py:1224: UserWarning: The use of label encoder in XGBClassifier is deprecated and will be removed in a future release. To remove this warning, do the following: 1) Pass option use_label_encoder=False when constructing XGBClassifier object; and 2) Encode your labels (y) as integers starting with 0, i.e. 0, 1, 2, ..., [num_class - 1].\n",
      "  warnings.warn(label_encoder_deprecation_msg, UserWarning)\n",
      "C:\\Users\\m85302\\Anaconda3b\\lib\\site-packages\\sklearn\\utils\\validation.py:63: DataConversionWarning: A column-vector y was passed when a 1d array was expected. Please change the shape of y to (n_samples, ), for example using ravel().\n",
      "  return f(*args, **kwargs)\n"
     ]
    },
    {
     "name": "stdout",
     "output_type": "stream",
     "text": [
      "[17:23:41] WARNING: C:/Users/Administrator/workspace/xgboost-win64_release_1.5.1/src/learner.cc:1115: Starting in XGBoost 1.3.0, the default evaluation metric used with the objective 'binary:logistic' was changed from 'error' to 'logloss'. Explicitly set eval_metric if you'd like to restore the old behavior.\n"
     ]
    },
    {
     "data": {
      "text/plain": [
       "0.7683676005823658"
      ]
     },
     "execution_count": 23,
     "metadata": {},
     "output_type": "execute_result"
    }
   ],
   "source": [
    "clf_xgb = xgb.XGBClassifier()\n",
    "clf_xgb.fit(X_train, y_train)\n",
    "y_pred_xgb = clf_xgb.predict(X_test)\n",
    "roc_auc_score(y_test, y_pred_xgb)"
   ]
  },
  {
   "cell_type": "code",
   "execution_count": null,
   "id": "7b405cba",
   "metadata": {},
   "outputs": [],
   "source": []
  }
 ],
 "metadata": {
  "kernelspec": {
   "display_name": "Python 3 (ipykernel)",
   "language": "python",
   "name": "python3"
  },
  "language_info": {
   "codemirror_mode": {
    "name": "ipython",
    "version": 3
   },
   "file_extension": ".py",
   "mimetype": "text/x-python",
   "name": "python",
   "nbconvert_exporter": "python",
   "pygments_lexer": "ipython3",
   "version": "3.9.7"
  }
 },
 "nbformat": 4,
 "nbformat_minor": 5
}
