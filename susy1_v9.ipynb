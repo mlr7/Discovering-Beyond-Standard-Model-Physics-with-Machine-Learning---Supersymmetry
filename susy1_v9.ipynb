{
 "cells": [
  {
   "cell_type": "code",
   "execution_count": null,
   "metadata": {},
   "outputs": [],
   "source": []
  },
  {
   "cell_type": "markdown",
   "metadata": {},
   "source": [
    "# Hyperparameter Tuning, Logistic Regression, and Gradient Boosted Trees to Detect Supersymmetry in Simulated Large Hadron Collider 8 TeV Proton Collisions"
   ]
  },
  {
   "cell_type": "markdown",
   "metadata": {},
   "source": [
    "# Supersymmetry: The Dream and the Current Reality\n",
    "\n",
    "Supersymmetry has been the dream of a generation of physicists, promising to fix vexing problems with the Standard Model of Particle Physics including the small observed Higgs mass, providing a promising dark matter candidate, and doing useful things for the unification energy of 3 of the fundamental forces. The failure of supersymmetric particles to manifest in experimental searches at the LHC has thrust particle physics into an era of crisis and reassessment.\n",
    "\n",
    "There has always been some skepticism surrounding supersymmetry. Here is Roger Penrose in his 2004 book,\n",
    "\n",
    "    \"I have found myself to be totally unconvinced of the physical relevance of the scheme of supersymmetry, at least in the form employed in particle physics and underlying theories today.\" (Penrose, Roger. The road to reality: A complete guide to the laws of the universe. Random house, 2005, page 873)\n",
    "\n",
    "However, the mainstream of particle physics certainly had (and continue to have in many cases) high hopes for supersymmetry. Stanford particle physicist Michael Peskin echoes the thoughts of many in the physics community in saying,\n",
    "\n",
    "    \"“I was shocked when supersymmetric particles were not discovered in the early days of the    \n",
    "    LHC.\" (Symmetry Magazine, The Status of Supersymmetry, 1/21/2021).\n",
    "\n",
    "Nevertheless, the same Symmetry Magazine article notes,\n",
    "\n",
    "    The simplest supersymmetric theories—those that best explain the Higgs boson—predict a zoo of new particles with masses comparable to those of the W and Z bosons. Those were within reach of the Large Hadron Collider, so when it turned on in 2009, many particle physicists thought the discovery of super-partners was imminent. But after the triumphant discovery of the Higgs boson came … no more new fundamental particles.\n",
    "\n",
    "Fortunately for us, we can use the power of Monte Carlo simulation to work out what machine learning strategies and algorithms would have been most successful in detecting supersymmetry signatures in the LHC data if they had manifest. In this notebook we work with a dataset of simulated supersymmetry signatures and train machine learning models to detect the Beyond Standard Model (BSM) physics supersymmetric particles would represent.\n",
    "\n",
    "We use the \"SUSY\" dataset from this paper (take a look at the paper for the details on the Monte Carlo simulations for data generation and many interesting discussions on Supersymmetry and Higgs physics as well).\n",
    "\n",
    "    Baldi, Pierre, Peter Sadowski, and Daniel Whiteson. \"Searching for exotic particles in high-energy physics with deep learning.\" Nature communications 5, no. 1 (2014): 1-9."
   ]
  },
  {
   "cell_type": "markdown",
   "metadata": {},
   "source": [
    "### Imports"
   ]
  },
  {
   "cell_type": "code",
   "execution_count": 1,
   "metadata": {},
   "outputs": [],
   "source": [
    "%matplotlib inline\n",
    "\n",
    "import numpy as np\n",
    "import pandas as pd\n",
    "\n",
    "from sklearn.model_selection import train_test_split\n",
    "\n",
    "from sklearn.model_selection import KFold, cross_val_score\n",
    "\n",
    "import xgboost as xgb\n",
    "\n",
    "import matplotlib.pyplot as plt\n",
    "import seaborn as sns\n",
    "#import plotly.express as px"
   ]
  },
  {
   "cell_type": "markdown",
   "metadata": {},
   "source": [
    "### Data ingest"
   ]
  },
  {
   "cell_type": "code",
   "execution_count": null,
   "metadata": {},
   "outputs": [],
   "source": [
    "#df_all = pd.read_csv('./data/SUSY.csv', header=None,engine='python')\n",
    "#print(df_all.shape) # (5,000,000, 19)"
   ]
  },
  {
   "cell_type": "code",
   "execution_count": 2,
   "metadata": {},
   "outputs": [
    {
     "name": "stdout",
     "output_type": "stream",
     "text": [
      "(50000, 19)\n",
      "Index(['SUSY', 'lepton 1 pT', 'lepton 1 eta', 'lepton 1 phi', 'lepton 2 pT',\n",
      "       'lepton 2 eta', 'lepton 2 phi', 'missing energy magnitude',\n",
      "       'missing energy phi', 'MET_rel', 'axial MET', 'M_R', 'M_TR_2', 'R',\n",
      "       'MT2', 'S_R', 'M_Delta_R', 'dPhi_r_b', 'cos(theta_r1)'],\n",
      "      dtype='object')\n"
     ]
    },
    {
     "data": {
      "text/html": [
       "<div>\n",
       "<style scoped>\n",
       "    .dataframe tbody tr th:only-of-type {\n",
       "        vertical-align: middle;\n",
       "    }\n",
       "\n",
       "    .dataframe tbody tr th {\n",
       "        vertical-align: top;\n",
       "    }\n",
       "\n",
       "    .dataframe thead th {\n",
       "        text-align: right;\n",
       "    }\n",
       "</style>\n",
       "<table border=\"1\" class=\"dataframe\">\n",
       "  <thead>\n",
       "    <tr style=\"text-align: right;\">\n",
       "      <th></th>\n",
       "      <th>SUSY</th>\n",
       "      <th>lepton 1 pT</th>\n",
       "      <th>lepton 1 eta</th>\n",
       "      <th>lepton 1 phi</th>\n",
       "      <th>lepton 2 pT</th>\n",
       "      <th>lepton 2 eta</th>\n",
       "      <th>lepton 2 phi</th>\n",
       "      <th>missing energy magnitude</th>\n",
       "      <th>missing energy phi</th>\n",
       "      <th>MET_rel</th>\n",
       "      <th>axial MET</th>\n",
       "      <th>M_R</th>\n",
       "      <th>M_TR_2</th>\n",
       "      <th>R</th>\n",
       "      <th>MT2</th>\n",
       "      <th>S_R</th>\n",
       "      <th>M_Delta_R</th>\n",
       "      <th>dPhi_r_b</th>\n",
       "      <th>cos(theta_r1)</th>\n",
       "    </tr>\n",
       "  </thead>\n",
       "  <tbody>\n",
       "    <tr>\n",
       "      <th>0</th>\n",
       "      <td>0.0</td>\n",
       "      <td>0.972861</td>\n",
       "      <td>0.653855</td>\n",
       "      <td>1.176225</td>\n",
       "      <td>1.157156</td>\n",
       "      <td>-1.739873</td>\n",
       "      <td>-0.874309</td>\n",
       "      <td>0.567765</td>\n",
       "      <td>-0.175000</td>\n",
       "      <td>0.810061</td>\n",
       "      <td>-0.252552</td>\n",
       "      <td>1.921887</td>\n",
       "      <td>0.889637</td>\n",
       "      <td>0.410772</td>\n",
       "      <td>1.145621</td>\n",
       "      <td>1.932632</td>\n",
       "      <td>0.994464</td>\n",
       "      <td>1.367815</td>\n",
       "      <td>0.040714</td>\n",
       "    </tr>\n",
       "    <tr>\n",
       "      <th>1</th>\n",
       "      <td>1.0</td>\n",
       "      <td>1.667973</td>\n",
       "      <td>0.064191</td>\n",
       "      <td>-1.225171</td>\n",
       "      <td>0.506102</td>\n",
       "      <td>-0.338939</td>\n",
       "      <td>1.672543</td>\n",
       "      <td>3.475464</td>\n",
       "      <td>-1.219136</td>\n",
       "      <td>0.012955</td>\n",
       "      <td>3.775174</td>\n",
       "      <td>1.045977</td>\n",
       "      <td>0.568051</td>\n",
       "      <td>0.481928</td>\n",
       "      <td>0.000000</td>\n",
       "      <td>0.448410</td>\n",
       "      <td>0.205356</td>\n",
       "      <td>1.321893</td>\n",
       "      <td>0.377584</td>\n",
       "    </tr>\n",
       "  </tbody>\n",
       "</table>\n",
       "</div>"
      ],
      "text/plain": [
       "   SUSY  lepton 1 pT  lepton 1 eta  lepton 1 phi  lepton 2 pT  lepton 2 eta  \\\n",
       "0   0.0     0.972861      0.653855      1.176225     1.157156     -1.739873   \n",
       "1   1.0     1.667973      0.064191     -1.225171     0.506102     -0.338939   \n",
       "\n",
       "   lepton 2 phi  missing energy magnitude  missing energy phi   MET_rel  \\\n",
       "0     -0.874309                  0.567765           -0.175000  0.810061   \n",
       "1      1.672543                  3.475464           -1.219136  0.012955   \n",
       "\n",
       "   axial MET       M_R    M_TR_2         R       MT2       S_R  M_Delta_R  \\\n",
       "0  -0.252552  1.921887  0.889637  0.410772  1.145621  1.932632   0.994464   \n",
       "1   3.775174  1.045977  0.568051  0.481928  0.000000  0.448410   0.205356   \n",
       "\n",
       "   dPhi_r_b  cos(theta_r1)  \n",
       "0  1.367815       0.040714  \n",
       "1  1.321893       0.377584  "
      ]
     },
     "execution_count": 2,
     "metadata": {},
     "output_type": "execute_result"
    }
   ],
   "source": [
    "df = pd.read_csv('./data/data_susy50K.csv', engine='python')\n",
    "\n",
    "print(df.shape)\n",
    "print(df.columns)\n",
    "df.head(2)"
   ]
  },
  {
   "cell_type": "code",
   "execution_count": 3,
   "metadata": {},
   "outputs": [
    {
     "data": {
      "text/plain": [
       "0.0    26992\n",
       "1.0    23008\n",
       "Name: SUSY, dtype: int64"
      ]
     },
     "execution_count": 3,
     "metadata": {},
     "output_type": "execute_result"
    }
   ],
   "source": [
    "df['SUSY'].value_counts() # balanced, binary classification"
   ]
  },
  {
   "cell_type": "markdown",
   "metadata": {},
   "source": [
    "### Create ML datasets"
   ]
  },
  {
   "cell_type": "code",
   "execution_count": 4,
   "metadata": {},
   "outputs": [
    {
     "name": "stdout",
     "output_type": "stream",
     "text": [
      "(50000, 18) (50000,)\n"
     ]
    }
   ],
   "source": [
    "y = df['SUSY'].values\n",
    "X = df[[col for col in df.columns if col!=\"SUSY\"]]\n",
    "\n",
    "print(X.shape, y.shape)"
   ]
  },
  {
   "cell_type": "code",
   "execution_count": 5,
   "metadata": {},
   "outputs": [
    {
     "name": "stdout",
     "output_type": "stream",
     "text": [
      "(45000, 18) (45000,) (5000, 18) (5000,)\n"
     ]
    }
   ],
   "source": [
    "X_train, X_test, y_train, y_test = train_test_split(X, y, test_size=0.1)#, random_state=0)\n",
    "\n",
    "print(X_train.shape, y_train.shape, X_test.shape, y_test.shape)"
   ]
  },
  {
   "cell_type": "markdown",
   "metadata": {},
   "source": [
    "### Decision Tree"
   ]
  },
  {
   "cell_type": "code",
   "execution_count": 7,
   "metadata": {},
   "outputs": [],
   "source": [
    "from sklearn import tree"
   ]
  },
  {
   "cell_type": "code",
   "execution_count": 24,
   "metadata": {},
   "outputs": [
    {
     "name": "stdout",
     "output_type": "stream",
     "text": [
      "0.7098\n"
     ]
    }
   ],
   "source": [
    "clf_tree = tree.DecisionTreeClassifier()\n",
    "clf_tree = clf_tree.fit(X_train, y_train)\n",
    "clf_tree_score = clf_tree.score(X_test, y_test)\n",
    "print(clf_tree_score)"
   ]
  },
  {
   "cell_type": "code",
   "execution_count": 10,
   "metadata": {},
   "outputs": [
    {
     "name": "stdout",
     "output_type": "stream",
     "text": [
      "classifier: clf_lr\n",
      "[0.71122222 0.702      0.71177778 0.70733333 0.71022222]\n",
      "CV train 0.709 accuracy with a standard deviation of 0.004\n",
      "CV test 0.708 accuracy with a standard deviation of 0.018\n"
     ]
    }
   ],
   "source": [
    "clf_in = []\n",
    "clf_in = clf_tree\n",
    "print('classifier: clf_lr')\n",
    "\n",
    "k_fold = KFold(n_splits=5)\n",
    "\n",
    "cv_scores_train = cross_val_score(clf_in, X_train, y_train, cv=k_fold, n_jobs=-1, scoring='accuracy')\n",
    "cv_scores_test = cross_val_score(clf_in, X_test, y_test, cv=k_fold, n_jobs=-1, scoring='accuracy')\n",
    "\n",
    "\n",
    "print(cv_scores_train)\n",
    "\n",
    "#print(\"%0.2f accuracy with a standard deviation of %0.2f\" % (cv_scores.mean(), cv_scores.std()))\n",
    "print(\"CV train %0.3f accuracy with a standard deviation of %0.3f\" % (cv_scores_train.mean(), cv_scores_train.std()))\n",
    "print(\"CV test %0.3f accuracy with a standard deviation of %0.3f\" % (cv_scores_test.mean(), cv_scores_test.std()))\n"
   ]
  },
  {
   "cell_type": "code",
   "execution_count": 53,
   "metadata": {},
   "outputs": [],
   "source": [
    "ls_models = []\n",
    "ls_accuracy = []"
   ]
  },
  {
   "cell_type": "code",
   "execution_count": 54,
   "metadata": {},
   "outputs": [
    {
     "name": "stdout",
     "output_type": "stream",
     "text": [
      "['Decision Tree'] [0.7098]\n"
     ]
    }
   ],
   "source": [
    "ls_models = ls_models + ['Decision Tree']\n",
    "ls_accuracy = ls_accuracy + [clf_tree_score]\n",
    "\n",
    "print(ls_models, ls_accuracy)"
   ]
  },
  {
   "cell_type": "markdown",
   "metadata": {},
   "source": [
    "### Random Forest"
   ]
  },
  {
   "cell_type": "code",
   "execution_count": 11,
   "metadata": {},
   "outputs": [],
   "source": [
    "from sklearn.ensemble import RandomForestClassifier"
   ]
  },
  {
   "cell_type": "code",
   "execution_count": 26,
   "metadata": {},
   "outputs": [
    {
     "name": "stdout",
     "output_type": "stream",
     "text": [
      "0.7978\n"
     ]
    }
   ],
   "source": [
    "clf_rf = RandomForestClassifier()\n",
    "\n",
    "clf_rf = clf_rf.fit(X_train, y_train)\n",
    "clf_rf_score = clf_rf.score(X_test, y_test)\n",
    "print(clf_rf_score)"
   ]
  },
  {
   "cell_type": "code",
   "execution_count": 55,
   "metadata": {},
   "outputs": [
    {
     "name": "stdout",
     "output_type": "stream",
     "text": [
      "['Decision Tree', 'Random Forest'] [0.7098, 0.7978]\n"
     ]
    }
   ],
   "source": [
    "ls_models = ls_models + ['Random Forest']\n",
    "ls_accuracy = ls_accuracy + [clf_rf_score]\n",
    "\n",
    "print(ls_models, ls_accuracy)"
   ]
  },
  {
   "cell_type": "markdown",
   "metadata": {},
   "source": [
    "### XGBoost simple"
   ]
  },
  {
   "cell_type": "code",
   "execution_count": 13,
   "metadata": {},
   "outputs": [],
   "source": [
    "import xgboost as xgb"
   ]
  },
  {
   "cell_type": "code",
   "execution_count": 29,
   "metadata": {},
   "outputs": [
    {
     "name": "stderr",
     "output_type": "stream",
     "text": [
      "C:\\Users\\m85302\\Anaconda3b\\envs\\seqDarts1\\lib\\site-packages\\xgboost\\sklearn.py:1224: UserWarning: The use of label encoder in XGBClassifier is deprecated and will be removed in a future release. To remove this warning, do the following: 1) Pass option use_label_encoder=False when constructing XGBClassifier object; and 2) Encode your labels (y) as integers starting with 0, i.e. 0, 1, 2, ..., [num_class - 1].\n",
      "  warnings.warn(label_encoder_deprecation_msg, UserWarning)\n"
     ]
    },
    {
     "name": "stdout",
     "output_type": "stream",
     "text": [
      "[23:50:30] WARNING: D:\\bld\\xgboost-split_1645118015404\\work\\src\\learner.cc:1115: Starting in XGBoost 1.3.0, the default evaluation metric used with the objective 'binary:logistic' was changed from 'error' to 'logloss'. Explicitly set eval_metric if you'd like to restore the old behavior.\n"
     ]
    }
   ],
   "source": [
    "clf_xgb = xgb.sklearn.XGBClassifier()\n",
    "clf_xgb.fit(X_train, y_train)\n",
    "clf_xgb_score = clf_xgb.score(X_test, y_test)"
   ]
  },
  {
   "cell_type": "code",
   "execution_count": 56,
   "metadata": {},
   "outputs": [
    {
     "name": "stdout",
     "output_type": "stream",
     "text": [
      "['Decision Tree', 'Random Forest', 'XGBoost'] [0.7098, 0.7978, 0.7986]\n"
     ]
    }
   ],
   "source": [
    "ls_models = ls_models + ['XGBoost']\n",
    "ls_accuracy = ls_accuracy + [clf_xgb_score]\n",
    "\n",
    "print(ls_models, ls_accuracy)"
   ]
  },
  {
   "cell_type": "code",
   "execution_count": 16,
   "metadata": {},
   "outputs": [
    {
     "name": "stdout",
     "output_type": "stream",
     "text": [
      "classifier: clf_xgb\n",
      "CV train 0.793 accuracy with a standard deviation of 0.004\n",
      "CV test 0.778 accuracy with a standard deviation of 0.010\n"
     ]
    }
   ],
   "source": [
    "clf_in = []\n",
    "clf_in = clf_xgb\n",
    "print('classifier: clf_xgb')\n",
    "\n",
    "k_fold = KFold(n_splits=5)\n",
    "\n",
    "cv_scores_train = cross_val_score(clf_in, X_train, y_train, cv=k_fold, n_jobs=-1, scoring='accuracy')\n",
    "cv_scores_test = cross_val_score(clf_in, X_test, y_test, cv=k_fold, n_jobs=-1, scoring='accuracy')\n",
    "\n",
    "\n",
    "#print(cv_scores)\n",
    "\n",
    "#print(\"%0.2f accuracy with a standard deviation of %0.2f\" % (cv_scores.mean(), cv_scores.std()))\n",
    "print(\"CV train %0.3f accuracy with a standard deviation of %0.3f\" % (cv_scores_train.mean(), cv_scores_train.std()))\n",
    "print(\"CV test %0.3f accuracy with a standard deviation of %0.3f\" % (cv_scores_test.mean(), cv_scores_test.std()))\n"
   ]
  },
  {
   "cell_type": "markdown",
   "metadata": {},
   "source": [
    "### XGBoost Hyperparameter Tuning"
   ]
  },
  {
   "cell_type": "markdown",
   "metadata": {},
   "source": [
    "##### GridSearchCV"
   ]
  },
  {
   "cell_type": "code",
   "execution_count": 17,
   "metadata": {},
   "outputs": [],
   "source": [
    "from sklearn.model_selection import GridSearchCV\n",
    "\n",
    "from sklearn.model_selection import RandomizedSearchCV\n",
    "\n",
    "from skopt import BayesSearchCV\n",
    "\n",
    "from sklearn.metrics import roc_auc_score"
   ]
  },
  {
   "cell_type": "code",
   "execution_count": 18,
   "metadata": {},
   "outputs": [],
   "source": [
    "#cv_params = {'max_depth': [3,4,6], 'min_child_weight': [1,3,5], 'learning_rate':[0.1,0.3]}\n",
    "cv_params = {'max_depth': [3,6], 'min_child_weight': [1,5], 'learning_rate':[0.1,0.3]}\n",
    "\n",
    "ind_params = {'n_estimators': 200, 'seed':1, 'colsample_bytree': 1, \n",
    "             'objective': 'binary:logistic'}"
   ]
  },
  {
   "cell_type": "code",
   "execution_count": 31,
   "metadata": {},
   "outputs": [],
   "source": [
    "# GridSearchCV\n",
    "opt_XGBclassifier = GridSearchCV(xgb.XGBClassifier(**ind_params), \n",
    "                                 cv_params, \n",
    "                                 scoring = 'accuracy', \n",
    "                                 cv = 2, #3, # =5\n",
    "                                 n_jobs = -1, \n",
    "                                 verbose=3, \n",
    "                                 refit=True\n",
    "                                )\n",
    "\n",
    "# RandomSearchCV\n",
    "#opt_XGBclassifier = RandomizedSearchCV(xgb.XGBClassifier(**ind_params), \n",
    "#                                 cv_params, \n",
    "#                                 n_iter = 5,\n",
    "#                                 cv = 3,\n",
    "#                                 scoring = 'accuracy', \n",
    "#                                 n_jobs = -1, \n",
    "#                                 verbose=3,\n",
    "#                                  refit=True\n",
    "#                                  ) # cv = 5\n",
    "\n",
    "#opt_XGBclassifier = BayesSearchCV(xgb.XGBClassifier(**ind_params), \n",
    "#                                  cv_params, \n",
    "#                                  n_iter = 5, # n_iter=20\n",
    "#                                  cv = 3,  #cv = 3,\n",
    "#                                  scoring = 'accuracy', \n",
    "#                                  n_jobs = -1, \n",
    "#                                  verbose=3, \n",
    "#                                  refit=True\n",
    "#                                  ) # cv = 5"
   ]
  },
  {
   "cell_type": "code",
   "execution_count": 32,
   "metadata": {},
   "outputs": [
    {
     "name": "stdout",
     "output_type": "stream",
     "text": [
      "Fitting 2 folds for each of 18 candidates, totalling 36 fits\n"
     ]
    },
    {
     "name": "stderr",
     "output_type": "stream",
     "text": [
      "C:\\Users\\m85302\\Anaconda3b\\envs\\seqDarts1\\lib\\site-packages\\xgboost\\sklearn.py:1224: UserWarning: The use of label encoder in XGBClassifier is deprecated and will be removed in a future release. To remove this warning, do the following: 1) Pass option use_label_encoder=False when constructing XGBClassifier object; and 2) Encode your labels (y) as integers starting with 0, i.e. 0, 1, 2, ..., [num_class - 1].\n",
      "  warnings.warn(label_encoder_deprecation_msg, UserWarning)\n"
     ]
    },
    {
     "name": "stdout",
     "output_type": "stream",
     "text": [
      "[23:54:43] WARNING: D:\\bld\\xgboost-split_1645118015404\\work\\src\\learner.cc:1115: Starting in XGBoost 1.3.0, the default evaluation metric used with the objective 'binary:logistic' was changed from 'error' to 'logloss'. Explicitly set eval_metric if you'd like to restore the old behavior.\n"
     ]
    },
    {
     "data": {
      "text/plain": [
       "GridSearchCV(cv=2,\n",
       "             estimator=XGBClassifier(base_score=None, booster=None,\n",
       "                                     colsample_bylevel=None,\n",
       "                                     colsample_bynode=None, colsample_bytree=1,\n",
       "                                     enable_categorical=False, gamma=None,\n",
       "                                     gpu_id=None, importance_type=None,\n",
       "                                     interaction_constraints=None,\n",
       "                                     learning_rate=None, max_delta_step=None,\n",
       "                                     max_depth=None, min_child_weight=None,\n",
       "                                     missing=nan, monotone_constraints=None,\n",
       "                                     n_estimators=200, n_jobs=None,\n",
       "                                     num_parallel_tree=None, predictor=None,\n",
       "                                     random_state=None, reg_alpha=None,\n",
       "                                     reg_lambda=None, scale_pos_weight=None,\n",
       "                                     seed=1, subsample=None, tree_method=None,\n",
       "                                     validate_parameters=None, verbosity=None),\n",
       "             n_jobs=-1,\n",
       "             param_grid={'learning_rate': [0.1, 0.3], 'max_depth': [3, 4, 6],\n",
       "                         'min_child_weight': [1, 3, 5]},\n",
       "             scoring='accuracy', verbose=3)"
      ]
     },
     "execution_count": 32,
     "metadata": {},
     "output_type": "execute_result"
    }
   ],
   "source": [
    "# gridsearch\n",
    "opt_XGBclassifier.fit(X_train, y_train) # fitting 3 folds for each of 18 candidates, totalling 54 fits\n",
    "\n",
    "# randomsearch\n",
    "#opt_XGBclassifier.fit(X_train, y_train) # Fitting 3 folds for each of 5 candidates, totalling 15 fits\n",
    "\n",
    "# BayesianSearch\n",
    "#opt_XGBclassifier.fit(X_train, y_train) # Fitting 3 folds for each of 1 candidates, totalling 3 fits"
   ]
  },
  {
   "cell_type": "code",
   "execution_count": 33,
   "metadata": {},
   "outputs": [
    {
     "name": "stdout",
     "output_type": "stream",
     "text": [
      "The optimal score on training set is 0.798\n",
      "The optimal parameters for the classifier are:\n",
      "{'learning_rate': 0.1, 'max_depth': 3, 'min_child_weight': 5}\n"
     ]
    }
   ],
   "source": [
    "#Print scores\n",
    "print('The optimal score on training set is {:0.3f}'.format(opt_XGBclassifier.best_score_))\n",
    "\n",
    "#Find optimal parameters\n",
    "\n",
    "print('The optimal parameters for the classifier are:')\n",
    "print(opt_XGBclassifier.best_params_)\n",
    "\n",
    "# gridsearch1 output:\n",
    "# The optimal score on training set is 0.797\n",
    "# The optimal parameters for the classifier are:\n",
    "# {'learning_rate': 0.1, 'max_depth': 6, 'min_child_weight': 3}\n",
    "\n",
    "# randomsearch1 output:\n",
    "#The optimal score on training set is 0.796\n",
    "#The optimal parameters for the classifier are:\n",
    "#{'min_child_weight': 3, 'max_depth': 4, 'learning_rate': 0.1}\n",
    "\n",
    "# bayesiansearch1 output:\n",
    "#The optimal score on training set is 0.798\n",
    "#The optimal parameters for the classifier are:\n",
    "#OrderedDict([('learning_rate', 0.14781038524392662), ('max_depth', 4), ('min_child_weight', 5)])\n",
    "\n",
    "# bayesiansearch2 output (more reps):\n",
    "#The optimal score on training set is 0.797\n",
    "#The optimal parameters for the classifier are:\n",
    "#OrderedDict([('learning_rate', 0.14106882975938184), ('max_depth', 4), ('min_child_weight', 3)])"
   ]
  },
  {
   "cell_type": "code",
   "execution_count": 34,
   "metadata": {},
   "outputs": [],
   "source": [
    "#Fit performance on the test set\n",
    "XGBclassifier_final=opt_XGBclassifier.best_estimator_\n",
    "y_pred_final=XGBclassifier_final.predict(X_test)"
   ]
  },
  {
   "cell_type": "code",
   "execution_count": 35,
   "metadata": {},
   "outputs": [
    {
     "name": "stdout",
     "output_type": "stream",
     "text": [
      "Model Accuray with optimal parameters: 80.14%\n",
      "The  AUC score is 0.79\n"
     ]
    }
   ],
   "source": [
    "print(\"Model Accuray with optimal parameters: {:.2f}%\".format(100*XGBclassifier_final.score(X_test, y_test)))\n",
    "print(\"The  AUC score is {:.2f}\".format(roc_auc_score(y_test,y_pred_final)))\n",
    "\n",
    "# GridSearch1: \n",
    "# Model Accuray with optimal parameters: 80.54%\n",
    "# The  AUC score is 0.80\n",
    "\n",
    "# RandomSearch1:\n",
    "# Model Accuray with optimal parameters: 80.32%\n",
    "# The  AUC score is 0.80\n",
    "# me: and this was tons faster !!!\n",
    "\n",
    "# BayesianSearch1:\n",
    "#Model Accuray with optimal parameters: 80.24%\n",
    "#The  AUC score is 0.80"
   ]
  },
  {
   "cell_type": "code",
   "execution_count": 36,
   "metadata": {},
   "outputs": [
    {
     "name": "stdout",
     "output_type": "stream",
     "text": [
      "0.8014\n"
     ]
    }
   ],
   "source": [
    "clf_xgbtuned_score = XGBclassifier_final.score(X_test, y_test)\n",
    "print(clf_xgbtuned_score)"
   ]
  },
  {
   "cell_type": "code",
   "execution_count": 57,
   "metadata": {},
   "outputs": [
    {
     "name": "stdout",
     "output_type": "stream",
     "text": [
      "['Decision Tree', 'Random Forest', 'XGBoost', 'XGBoost-Tuned'] [0.7098, 0.7978, 0.7986, 0.8014]\n"
     ]
    }
   ],
   "source": [
    "ls_models = ls_models + ['XGBoost-Tuned']\n",
    "ls_accuracy = ls_accuracy + [clf_xgbtuned_score]\n",
    "\n",
    "print(ls_models, ls_accuracy)"
   ]
  },
  {
   "cell_type": "markdown",
   "metadata": {},
   "source": [
    "### SKOPT Viz"
   ]
  },
  {
   "cell_type": "code",
   "execution_count": null,
   "metadata": {},
   "outputs": [],
   "source": [
    "from skopt.plots import plot_objective"
   ]
  },
  {
   "cell_type": "code",
   "execution_count": null,
   "metadata": {},
   "outputs": [],
   "source": [
    "# https://scikit-optimize.github.io/stable/auto_examples/plots/partial-dependence-plot.html#sphx-glr-auto-examples-plots-partial-dependence-plot-py\n",
    "\n",
    "#_ = plot_objective(opt_XGBclassifier) # AttributeError: 'BayesSearchCV' object has no attribute 'space'\n",
    "\n",
    "# figure out skopt viz's at other time"
   ]
  },
  {
   "cell_type": "code",
   "execution_count": null,
   "metadata": {},
   "outputs": [],
   "source": [
    "#opt_XGBclassifier"
   ]
  },
  {
   "cell_type": "markdown",
   "metadata": {},
   "source": [
    "### AutoGluon - AutoML Strategy"
   ]
  },
  {
   "cell_type": "code",
   "execution_count": 38,
   "metadata": {},
   "outputs": [],
   "source": [
    "from autogluon.tabular import TabularDataset, TabularPredictor"
   ]
  },
  {
   "cell_type": "code",
   "execution_count": 39,
   "metadata": {},
   "outputs": [
    {
     "name": "stdout",
     "output_type": "stream",
     "text": [
      "(50000, 19)\n",
      "Index(['SUSY', 'lepton 1 pT', 'lepton 1 eta', 'lepton 1 phi', 'lepton 2 pT',\n",
      "       'lepton 2 eta', 'lepton 2 phi', 'missing energy magnitude',\n",
      "       'missing energy phi', 'MET_rel', 'axial MET', 'M_R', 'M_TR_2', 'R',\n",
      "       'MT2', 'S_R', 'M_Delta_R', 'dPhi_r_b', 'cos(theta_r1)'],\n",
      "      dtype='object')\n"
     ]
    },
    {
     "data": {
      "text/html": [
       "<div>\n",
       "<style scoped>\n",
       "    .dataframe tbody tr th:only-of-type {\n",
       "        vertical-align: middle;\n",
       "    }\n",
       "\n",
       "    .dataframe tbody tr th {\n",
       "        vertical-align: top;\n",
       "    }\n",
       "\n",
       "    .dataframe thead th {\n",
       "        text-align: right;\n",
       "    }\n",
       "</style>\n",
       "<table border=\"1\" class=\"dataframe\">\n",
       "  <thead>\n",
       "    <tr style=\"text-align: right;\">\n",
       "      <th></th>\n",
       "      <th>SUSY</th>\n",
       "      <th>lepton 1 pT</th>\n",
       "      <th>lepton 1 eta</th>\n",
       "      <th>lepton 1 phi</th>\n",
       "      <th>lepton 2 pT</th>\n",
       "      <th>lepton 2 eta</th>\n",
       "      <th>lepton 2 phi</th>\n",
       "      <th>missing energy magnitude</th>\n",
       "      <th>missing energy phi</th>\n",
       "      <th>MET_rel</th>\n",
       "      <th>axial MET</th>\n",
       "      <th>M_R</th>\n",
       "      <th>M_TR_2</th>\n",
       "      <th>R</th>\n",
       "      <th>MT2</th>\n",
       "      <th>S_R</th>\n",
       "      <th>M_Delta_R</th>\n",
       "      <th>dPhi_r_b</th>\n",
       "      <th>cos(theta_r1)</th>\n",
       "    </tr>\n",
       "  </thead>\n",
       "  <tbody>\n",
       "    <tr>\n",
       "      <th>0</th>\n",
       "      <td>0.0</td>\n",
       "      <td>0.972861</td>\n",
       "      <td>0.653855</td>\n",
       "      <td>1.176225</td>\n",
       "      <td>1.157156</td>\n",
       "      <td>-1.739873</td>\n",
       "      <td>-0.874309</td>\n",
       "      <td>0.567765</td>\n",
       "      <td>-0.175000</td>\n",
       "      <td>0.810061</td>\n",
       "      <td>-0.252552</td>\n",
       "      <td>1.921887</td>\n",
       "      <td>0.889637</td>\n",
       "      <td>0.410772</td>\n",
       "      <td>1.145621</td>\n",
       "      <td>1.932632</td>\n",
       "      <td>0.994464</td>\n",
       "      <td>1.367815</td>\n",
       "      <td>0.040714</td>\n",
       "    </tr>\n",
       "    <tr>\n",
       "      <th>1</th>\n",
       "      <td>1.0</td>\n",
       "      <td>1.667973</td>\n",
       "      <td>0.064191</td>\n",
       "      <td>-1.225171</td>\n",
       "      <td>0.506102</td>\n",
       "      <td>-0.338939</td>\n",
       "      <td>1.672543</td>\n",
       "      <td>3.475464</td>\n",
       "      <td>-1.219136</td>\n",
       "      <td>0.012955</td>\n",
       "      <td>3.775174</td>\n",
       "      <td>1.045977</td>\n",
       "      <td>0.568051</td>\n",
       "      <td>0.481928</td>\n",
       "      <td>0.000000</td>\n",
       "      <td>0.448410</td>\n",
       "      <td>0.205356</td>\n",
       "      <td>1.321893</td>\n",
       "      <td>0.377584</td>\n",
       "    </tr>\n",
       "  </tbody>\n",
       "</table>\n",
       "</div>"
      ],
      "text/plain": [
       "   SUSY  lepton 1 pT  lepton 1 eta  lepton 1 phi  lepton 2 pT  lepton 2 eta  \\\n",
       "0   0.0     0.972861      0.653855      1.176225     1.157156     -1.739873   \n",
       "1   1.0     1.667973      0.064191     -1.225171     0.506102     -0.338939   \n",
       "\n",
       "   lepton 2 phi  missing energy magnitude  missing energy phi   MET_rel  \\\n",
       "0     -0.874309                  0.567765           -0.175000  0.810061   \n",
       "1      1.672543                  3.475464           -1.219136  0.012955   \n",
       "\n",
       "   axial MET       M_R    M_TR_2         R       MT2       S_R  M_Delta_R  \\\n",
       "0  -0.252552  1.921887  0.889637  0.410772  1.145621  1.932632   0.994464   \n",
       "1   3.775174  1.045977  0.568051  0.481928  0.000000  0.448410   0.205356   \n",
       "\n",
       "   dPhi_r_b  cos(theta_r1)  \n",
       "0  1.367815       0.040714  \n",
       "1  1.321893       0.377584  "
      ]
     },
     "execution_count": 39,
     "metadata": {},
     "output_type": "execute_result"
    }
   ],
   "source": [
    "print(df.shape)\n",
    "print(df.columns)\n",
    "df.head(2)"
   ]
  },
  {
   "cell_type": "code",
   "execution_count": 40,
   "metadata": {},
   "outputs": [
    {
     "name": "stdout",
     "output_type": "stream",
     "text": [
      "(45000, 18) (5000, 18)\n"
     ]
    }
   ],
   "source": [
    "print(X_train.shape, X_test.shape)"
   ]
  },
  {
   "cell_type": "code",
   "execution_count": 41,
   "metadata": {},
   "outputs": [
    {
     "data": {
      "text/plain": [
       "(50000, 19)"
      ]
     },
     "execution_count": 41,
     "metadata": {},
     "output_type": "execute_result"
    }
   ],
   "source": [
    "df.shape"
   ]
  },
  {
   "cell_type": "code",
   "execution_count": 42,
   "metadata": {},
   "outputs": [
    {
     "name": "stdout",
     "output_type": "stream",
     "text": [
      "(50000, 19) (45000, 19) (5000, 19)\n"
     ]
    }
   ],
   "source": [
    "df_train = df.head(45000)\n",
    "df_test = df.tail(5000)\n",
    "\n",
    "print(df.shape, df_train.shape, df_test.shape)"
   ]
  },
  {
   "cell_type": "code",
   "execution_count": 43,
   "metadata": {},
   "outputs": [
    {
     "data": {
      "text/plain": [
       "0.0    24251\n",
       "1.0    20749\n",
       "Name: SUSY, dtype: int64"
      ]
     },
     "execution_count": 43,
     "metadata": {},
     "output_type": "execute_result"
    }
   ],
   "source": [
    "df_train['SUSY'].value_counts()"
   ]
  },
  {
   "cell_type": "code",
   "execution_count": 44,
   "metadata": {},
   "outputs": [
    {
     "data": {
      "text/plain": [
       "0.0    2741\n",
       "1.0    2259\n",
       "Name: SUSY, dtype: int64"
      ]
     },
     "execution_count": 44,
     "metadata": {},
     "output_type": "execute_result"
    }
   ],
   "source": [
    "df_test['SUSY'].value_counts()"
   ]
  },
  {
   "cell_type": "code",
   "execution_count": 45,
   "metadata": {},
   "outputs": [
    {
     "name": "stderr",
     "output_type": "stream",
     "text": [
      "Beginning AutoGluon training ...\n",
      "AutoGluon will save models to \"agModels-predictClass\\\"\n",
      "AutoGluon Version:  0.4.0\n",
      "Python Version:     3.8.5\n",
      "Operating System:   Windows\n",
      "Train Data Rows:    45000\n",
      "Train Data Columns: 18\n",
      "Label Column: SUSY\n",
      "Preprocessing data ...\n",
      "AutoGluon infers your prediction problem is: 'binary' (because only two unique label-values observed).\n",
      "\t2 unique label values:  [0.0, 1.0]\n",
      "\tIf 'binary' is not the correct problem_type, please manually specify the problem_type parameter during predictor init (You may specify problem_type as one of: ['binary', 'multiclass', 'regression'])\n",
      "Selected class <--> label mapping:  class 1 = 1, class 0 = 0\n",
      "Using Feature Generators to preprocess the data ...\n",
      "Fitting AutoMLPipelineFeatureGenerator...\n",
      "\tAvailable Memory:                    23067.07 MB\n",
      "\tTrain Data (Original)  Memory Usage: 6.48 MB (0.0% of available memory)\n",
      "\tInferring data type of each feature based on column values. Set feature_metadata_in to manually specify special dtypes of the features.\n",
      "\tStage 1 Generators:\n",
      "\t\tFitting AsTypeFeatureGenerator...\n",
      "\tStage 2 Generators:\n",
      "\t\tFitting FillNaFeatureGenerator...\n",
      "\tStage 3 Generators:\n",
      "\t\tFitting IdentityFeatureGenerator...\n",
      "\tStage 4 Generators:\n",
      "\t\tFitting DropUniqueFeatureGenerator...\n",
      "\tTypes of features in original data (raw dtype, special dtypes):\n",
      "\t\t('float', []) : 18 | ['lepton 1 pT', 'lepton 1 eta', 'lepton 1 phi', 'lepton 2 pT', 'lepton 2 eta', ...]\n",
      "\tTypes of features in processed data (raw dtype, special dtypes):\n",
      "\t\t('float', []) : 18 | ['lepton 1 pT', 'lepton 1 eta', 'lepton 1 phi', 'lepton 2 pT', 'lepton 2 eta', ...]\n",
      "\t0.2s = Fit runtime\n",
      "\t18 features in original data used to generate 18 features in processed data.\n",
      "\tTrain Data (Processed) Memory Usage: 6.48 MB (0.0% of available memory)\n",
      "Data preprocessing and feature engineering runtime = 0.21s ...\n",
      "AutoGluon will gauge predictive performance using evaluation metric: 'accuracy'\n",
      "\tTo change this, specify the eval_metric parameter of Predictor()\n",
      "Automatically generating train/validation split with holdout_frac=0.05555555555555555, Train Rows: 42500, Val Rows: 2500\n",
      "Fitting 13 L1 models ...\n",
      "Fitting model: KNeighborsUnif ...\n",
      "\t0.754\t = Validation score   (accuracy)\n",
      "\t0.1s\t = Training   runtime\n",
      "\t3.23s\t = Validation runtime\n",
      "Fitting model: KNeighborsDist ...\n",
      "\t0.7532\t = Validation score   (accuracy)\n",
      "\t0.07s\t = Training   runtime\n",
      "\t2.95s\t = Validation runtime\n",
      "Fitting model: LightGBMXT ...\n",
      "\t0.8032\t = Validation score   (accuracy)\n",
      "\t7.19s\t = Training   runtime\n",
      "\t0.02s\t = Validation runtime\n",
      "Fitting model: LightGBM ...\n",
      "\t0.8004\t = Validation score   (accuracy)\n",
      "\t0.57s\t = Training   runtime\n",
      "\t0.03s\t = Validation runtime\n",
      "Fitting model: RandomForestGini ...\n",
      "\t0.7964\t = Validation score   (accuracy)\n",
      "\t18.15s\t = Training   runtime\n",
      "\t0.08s\t = Validation runtime\n",
      "Fitting model: RandomForestEntr ...\n",
      "\t0.7932\t = Validation score   (accuracy)\n",
      "\t41.62s\t = Training   runtime\n",
      "\t0.13s\t = Validation runtime\n",
      "Fitting model: CatBoost ...\n",
      "\tWarning: Exception caused CatBoost to fail during training (ImportError)... Skipping this model.\n",
      "\t\t`import catboost` failed.A quick tip is to install via `pip install catboost`.\n",
      "Fitting model: ExtraTreesGini ...\n",
      "\t0.7992\t = Validation score   (accuracy)\n",
      "\t3.98s\t = Training   runtime\n",
      "\t0.09s\t = Validation runtime\n",
      "Fitting model: ExtraTreesEntr ...\n",
      "\t0.8008\t = Validation score   (accuracy)\n",
      "\t4.32s\t = Training   runtime\n",
      "\t0.16s\t = Validation runtime\n",
      "Fitting model: NeuralNetFastAI ...\n",
      "\tWarning: Exception caused NeuralNetFastAI to fail during training (ImportError)... Skipping this model.\n",
      "\t\tImport fastai failed. A quick tip is to install via `pip install fastai==2.*`. If you are using Mac OSX, please use this torch version to avoid compatibility issues: `pip install torch==1.6.0`.\n",
      "Fitting model: XGBoost ...\n",
      "\t0.8052\t = Validation score   (accuracy)\n",
      "\t1.76s\t = Training   runtime\n",
      "\t0.02s\t = Validation runtime\n",
      "Fitting model: NeuralNetTorch ...\n",
      "\t0.7952\t = Validation score   (accuracy)\n",
      "\t66.41s\t = Training   runtime\n",
      "\t0.06s\t = Validation runtime\n",
      "Fitting model: LightGBMLarge ...\n",
      "\t0.8008\t = Validation score   (accuracy)\n",
      "\t1.71s\t = Training   runtime\n",
      "\t0.04s\t = Validation runtime\n",
      "Fitting model: WeightedEnsemble_L2 ...\n",
      "\t0.8056\t = Validation score   (accuracy)\n",
      "\t1.05s\t = Training   runtime\n",
      "\t0.0s\t = Validation runtime\n",
      "AutoGluon training complete, total runtime = 163.39s ... Best model: \"WeightedEnsemble_L2\"\n",
      "TabularPredictor saved. To load, use: predictor = TabularPredictor.load(\"agModels-predictClass\\\")\n"
     ]
    }
   ],
   "source": [
    "save_path = 'agModels-predictClass'  # specifies folder to store trained models\n",
    "#predictor = TabularPredictor(label=label, path=save_path).fit(train_data)\n",
    "\n",
    "\n",
    "label='SUSY'\n",
    "predictor = TabularPredictor(label=label, path=save_path).fit(df_train)"
   ]
  },
  {
   "cell_type": "code",
   "execution_count": null,
   "metadata": {},
   "outputs": [],
   "source": [
    "# predictor = TabularPredictor.load(save_path)  # unnecessary, just demonstrates how to load previously-trained predictor from file\n",
    "\n"
   ]
  },
  {
   "cell_type": "code",
   "execution_count": 46,
   "metadata": {},
   "outputs": [
    {
     "name": "stdout",
     "output_type": "stream",
     "text": [
      "(5000, 19) (5000, 18) (5000,)\n"
     ]
    }
   ],
   "source": [
    "df_y_test = df_test['SUSY']\n",
    "df_X_test = df_test.drop(columns=['SUSY'])\n",
    "\n",
    "print(df_test.shape, df_X_test.shape, df_y_test.shape)"
   ]
  },
  {
   "cell_type": "code",
   "execution_count": 47,
   "metadata": {},
   "outputs": [],
   "source": [
    "y_pred = predictor.predict(df_X_test)"
   ]
  },
  {
   "cell_type": "code",
   "execution_count": 48,
   "metadata": {},
   "outputs": [
    {
     "name": "stdout",
     "output_type": "stream",
     "text": [
      "Predictions:  \n",
      " 45000    1.0\n",
      "45001    1.0\n",
      "45002    0.0\n",
      "45003    1.0\n",
      "45004    1.0\n",
      "        ... \n",
      "49995    0.0\n",
      "49996    1.0\n",
      "49997    0.0\n",
      "49998    1.0\n",
      "49999    0.0\n",
      "Name: SUSY, Length: 5000, dtype: float64\n"
     ]
    }
   ],
   "source": [
    "print(\"Predictions:  \\n\", y_pred)"
   ]
  },
  {
   "cell_type": "code",
   "execution_count": 49,
   "metadata": {},
   "outputs": [
    {
     "name": "stderr",
     "output_type": "stream",
     "text": [
      "Evaluation: accuracy on test data: 0.801\n",
      "Evaluations on test data:\n",
      "{\n",
      "    \"accuracy\": 0.801,\n",
      "    \"balanced_accuracy\": 0.793119951989036,\n",
      "    \"mcc\": 0.598164705962723,\n",
      "    \"f1\": 0.7636018056545497,\n",
      "    \"precision\": 0.8241025641025641,\n",
      "    \"recall\": 0.7113767153607791\n",
      "}\n"
     ]
    }
   ],
   "source": [
    "perf = predictor.evaluate_predictions(y_true=df_y_test, y_pred=y_pred, auxiliary_metrics=True)"
   ]
  },
  {
   "cell_type": "code",
   "execution_count": 50,
   "metadata": {},
   "outputs": [
    {
     "data": {
      "text/html": [
       "<div>\n",
       "<style scoped>\n",
       "    .dataframe tbody tr th:only-of-type {\n",
       "        vertical-align: middle;\n",
       "    }\n",
       "\n",
       "    .dataframe tbody tr th {\n",
       "        vertical-align: top;\n",
       "    }\n",
       "\n",
       "    .dataframe thead th {\n",
       "        text-align: right;\n",
       "    }\n",
       "</style>\n",
       "<table border=\"1\" class=\"dataframe\">\n",
       "  <thead>\n",
       "    <tr style=\"text-align: right;\">\n",
       "      <th></th>\n",
       "      <th>model</th>\n",
       "      <th>score_test</th>\n",
       "      <th>score_val</th>\n",
       "      <th>pred_time_test</th>\n",
       "      <th>pred_time_val</th>\n",
       "      <th>fit_time</th>\n",
       "      <th>pred_time_test_marginal</th>\n",
       "      <th>pred_time_val_marginal</th>\n",
       "      <th>fit_time_marginal</th>\n",
       "      <th>stack_level</th>\n",
       "      <th>can_infer</th>\n",
       "      <th>fit_order</th>\n",
       "    </tr>\n",
       "  </thead>\n",
       "  <tbody>\n",
       "    <tr>\n",
       "      <th>0</th>\n",
       "      <td>XGBoost</td>\n",
       "      <td>0.8010</td>\n",
       "      <td>0.8052</td>\n",
       "      <td>0.042665</td>\n",
       "      <td>0.017368</td>\n",
       "      <td>1.763744</td>\n",
       "      <td>0.042665</td>\n",
       "      <td>0.017368</td>\n",
       "      <td>1.763744</td>\n",
       "      <td>1</td>\n",
       "      <td>True</td>\n",
       "      <td>9</td>\n",
       "    </tr>\n",
       "    <tr>\n",
       "      <th>1</th>\n",
       "      <td>WeightedEnsemble_L2</td>\n",
       "      <td>0.8010</td>\n",
       "      <td>0.8056</td>\n",
       "      <td>0.623959</td>\n",
       "      <td>0.106600</td>\n",
       "      <td>6.793103</td>\n",
       "      <td>0.000000</td>\n",
       "      <td>0.000000</td>\n",
       "      <td>1.052806</td>\n",
       "      <td>2</td>\n",
       "      <td>True</td>\n",
       "      <td>12</td>\n",
       "    </tr>\n",
       "    <tr>\n",
       "      <th>2</th>\n",
       "      <td>LightGBM</td>\n",
       "      <td>0.7998</td>\n",
       "      <td>0.8004</td>\n",
       "      <td>0.000000</td>\n",
       "      <td>0.025983</td>\n",
       "      <td>0.566299</td>\n",
       "      <td>0.000000</td>\n",
       "      <td>0.025983</td>\n",
       "      <td>0.566299</td>\n",
       "      <td>1</td>\n",
       "      <td>True</td>\n",
       "      <td>4</td>\n",
       "    </tr>\n",
       "    <tr>\n",
       "      <th>3</th>\n",
       "      <td>ExtraTreesEntr</td>\n",
       "      <td>0.7992</td>\n",
       "      <td>0.8008</td>\n",
       "      <td>0.565665</td>\n",
       "      <td>0.160558</td>\n",
       "      <td>4.321471</td>\n",
       "      <td>0.565665</td>\n",
       "      <td>0.160558</td>\n",
       "      <td>4.321471</td>\n",
       "      <td>1</td>\n",
       "      <td>True</td>\n",
       "      <td>8</td>\n",
       "    </tr>\n",
       "    <tr>\n",
       "      <th>4</th>\n",
       "      <td>ExtraTreesGini</td>\n",
       "      <td>0.7982</td>\n",
       "      <td>0.7992</td>\n",
       "      <td>0.581294</td>\n",
       "      <td>0.089232</td>\n",
       "      <td>3.976553</td>\n",
       "      <td>0.581294</td>\n",
       "      <td>0.089232</td>\n",
       "      <td>3.976553</td>\n",
       "      <td>1</td>\n",
       "      <td>True</td>\n",
       "      <td>7</td>\n",
       "    </tr>\n",
       "    <tr>\n",
       "      <th>5</th>\n",
       "      <td>RandomForestGini</td>\n",
       "      <td>0.7974</td>\n",
       "      <td>0.7964</td>\n",
       "      <td>0.309770</td>\n",
       "      <td>0.083811</td>\n",
       "      <td>18.152966</td>\n",
       "      <td>0.309770</td>\n",
       "      <td>0.083811</td>\n",
       "      <td>18.152966</td>\n",
       "      <td>1</td>\n",
       "      <td>True</td>\n",
       "      <td>5</td>\n",
       "    </tr>\n",
       "    <tr>\n",
       "      <th>6</th>\n",
       "      <td>LightGBMLarge</td>\n",
       "      <td>0.7970</td>\n",
       "      <td>0.8008</td>\n",
       "      <td>0.052816</td>\n",
       "      <td>0.039969</td>\n",
       "      <td>1.710683</td>\n",
       "      <td>0.052816</td>\n",
       "      <td>0.039969</td>\n",
       "      <td>1.710683</td>\n",
       "      <td>1</td>\n",
       "      <td>True</td>\n",
       "      <td>11</td>\n",
       "    </tr>\n",
       "    <tr>\n",
       "      <th>7</th>\n",
       "      <td>NeuralNetTorch</td>\n",
       "      <td>0.7960</td>\n",
       "      <td>0.7952</td>\n",
       "      <td>0.100431</td>\n",
       "      <td>0.057958</td>\n",
       "      <td>66.405329</td>\n",
       "      <td>0.100431</td>\n",
       "      <td>0.057958</td>\n",
       "      <td>66.405329</td>\n",
       "      <td>1</td>\n",
       "      <td>True</td>\n",
       "      <td>10</td>\n",
       "    </tr>\n",
       "    <tr>\n",
       "      <th>8</th>\n",
       "      <td>RandomForestEntr</td>\n",
       "      <td>0.7952</td>\n",
       "      <td>0.7932</td>\n",
       "      <td>0.313182</td>\n",
       "      <td>0.129996</td>\n",
       "      <td>41.620233</td>\n",
       "      <td>0.313182</td>\n",
       "      <td>0.129996</td>\n",
       "      <td>41.620233</td>\n",
       "      <td>1</td>\n",
       "      <td>True</td>\n",
       "      <td>6</td>\n",
       "    </tr>\n",
       "    <tr>\n",
       "      <th>9</th>\n",
       "      <td>LightGBMXT</td>\n",
       "      <td>0.7944</td>\n",
       "      <td>0.8032</td>\n",
       "      <td>0.000996</td>\n",
       "      <td>0.019883</td>\n",
       "      <td>7.187729</td>\n",
       "      <td>0.000996</td>\n",
       "      <td>0.019883</td>\n",
       "      <td>7.187729</td>\n",
       "      <td>1</td>\n",
       "      <td>True</td>\n",
       "      <td>3</td>\n",
       "    </tr>\n",
       "    <tr>\n",
       "      <th>10</th>\n",
       "      <td>KNeighborsUnif</td>\n",
       "      <td>0.7602</td>\n",
       "      <td>0.7540</td>\n",
       "      <td>6.315651</td>\n",
       "      <td>3.225111</td>\n",
       "      <td>0.103158</td>\n",
       "      <td>6.315651</td>\n",
       "      <td>3.225111</td>\n",
       "      <td>0.103158</td>\n",
       "      <td>1</td>\n",
       "      <td>True</td>\n",
       "      <td>1</td>\n",
       "    </tr>\n",
       "    <tr>\n",
       "      <th>11</th>\n",
       "      <td>KNeighborsDist</td>\n",
       "      <td>0.7594</td>\n",
       "      <td>0.7532</td>\n",
       "      <td>6.317783</td>\n",
       "      <td>2.947685</td>\n",
       "      <td>0.066544</td>\n",
       "      <td>6.317783</td>\n",
       "      <td>2.947685</td>\n",
       "      <td>0.066544</td>\n",
       "      <td>1</td>\n",
       "      <td>True</td>\n",
       "      <td>2</td>\n",
       "    </tr>\n",
       "  </tbody>\n",
       "</table>\n",
       "</div>"
      ],
      "text/plain": [
       "                  model  score_test  score_val  pred_time_test  pred_time_val  \\\n",
       "0               XGBoost      0.8010     0.8052        0.042665       0.017368   \n",
       "1   WeightedEnsemble_L2      0.8010     0.8056        0.623959       0.106600   \n",
       "2              LightGBM      0.7998     0.8004        0.000000       0.025983   \n",
       "3        ExtraTreesEntr      0.7992     0.8008        0.565665       0.160558   \n",
       "4        ExtraTreesGini      0.7982     0.7992        0.581294       0.089232   \n",
       "5      RandomForestGini      0.7974     0.7964        0.309770       0.083811   \n",
       "6         LightGBMLarge      0.7970     0.8008        0.052816       0.039969   \n",
       "7        NeuralNetTorch      0.7960     0.7952        0.100431       0.057958   \n",
       "8      RandomForestEntr      0.7952     0.7932        0.313182       0.129996   \n",
       "9            LightGBMXT      0.7944     0.8032        0.000996       0.019883   \n",
       "10       KNeighborsUnif      0.7602     0.7540        6.315651       3.225111   \n",
       "11       KNeighborsDist      0.7594     0.7532        6.317783       2.947685   \n",
       "\n",
       "     fit_time  pred_time_test_marginal  pred_time_val_marginal  \\\n",
       "0    1.763744                 0.042665                0.017368   \n",
       "1    6.793103                 0.000000                0.000000   \n",
       "2    0.566299                 0.000000                0.025983   \n",
       "3    4.321471                 0.565665                0.160558   \n",
       "4    3.976553                 0.581294                0.089232   \n",
       "5   18.152966                 0.309770                0.083811   \n",
       "6    1.710683                 0.052816                0.039969   \n",
       "7   66.405329                 0.100431                0.057958   \n",
       "8   41.620233                 0.313182                0.129996   \n",
       "9    7.187729                 0.000996                0.019883   \n",
       "10   0.103158                 6.315651                3.225111   \n",
       "11   0.066544                 6.317783                2.947685   \n",
       "\n",
       "    fit_time_marginal  stack_level  can_infer  fit_order  \n",
       "0            1.763744            1       True          9  \n",
       "1            1.052806            2       True         12  \n",
       "2            0.566299            1       True          4  \n",
       "3            4.321471            1       True          8  \n",
       "4            3.976553            1       True          7  \n",
       "5           18.152966            1       True          5  \n",
       "6            1.710683            1       True         11  \n",
       "7           66.405329            1       True         10  \n",
       "8           41.620233            1       True          6  \n",
       "9            7.187729            1       True          3  \n",
       "10           0.103158            1       True          1  \n",
       "11           0.066544            1       True          2  "
      ]
     },
     "execution_count": 50,
     "metadata": {},
     "output_type": "execute_result"
    }
   ],
   "source": [
    "predictor.leaderboard(df_test, silent=True)"
   ]
  },
  {
   "cell_type": "code",
   "execution_count": 58,
   "metadata": {},
   "outputs": [
    {
     "name": "stdout",
     "output_type": "stream",
     "text": [
      "['Decision Tree', 'Random Forest', 'XGBoost', 'XGBoost-Tuned', 'AutoML-AutoGluon-Stacking'] [0.7098, 0.7978, 0.7986, 0.8014, 0.801]\n"
     ]
    }
   ],
   "source": [
    "ls_models = ls_models + ['AutoML-AutoGluon-Stacking']\n",
    "ls_accuracy = ls_accuracy + [0.801]\n",
    "\n",
    "print(ls_models, ls_accuracy)"
   ]
  },
  {
   "cell_type": "markdown",
   "metadata": {},
   "source": [
    "### Eval Models"
   ]
  },
  {
   "cell_type": "code",
   "execution_count": 59,
   "metadata": {},
   "outputs": [
    {
     "data": {
      "text/html": [
       "<div>\n",
       "<style scoped>\n",
       "    .dataframe tbody tr th:only-of-type {\n",
       "        vertical-align: middle;\n",
       "    }\n",
       "\n",
       "    .dataframe tbody tr th {\n",
       "        vertical-align: top;\n",
       "    }\n",
       "\n",
       "    .dataframe thead th {\n",
       "        text-align: right;\n",
       "    }\n",
       "</style>\n",
       "<table border=\"1\" class=\"dataframe\">\n",
       "  <thead>\n",
       "    <tr style=\"text-align: right;\">\n",
       "      <th></th>\n",
       "      <th>Model</th>\n",
       "      <th>Test Accuracy</th>\n",
       "    </tr>\n",
       "  </thead>\n",
       "  <tbody>\n",
       "    <tr>\n",
       "      <th>0</th>\n",
       "      <td>Decision Tree</td>\n",
       "      <td>0.7098</td>\n",
       "    </tr>\n",
       "    <tr>\n",
       "      <th>1</th>\n",
       "      <td>Random Forest</td>\n",
       "      <td>0.7978</td>\n",
       "    </tr>\n",
       "    <tr>\n",
       "      <th>2</th>\n",
       "      <td>XGBoost</td>\n",
       "      <td>0.7986</td>\n",
       "    </tr>\n",
       "    <tr>\n",
       "      <th>3</th>\n",
       "      <td>XGBoost-Tuned</td>\n",
       "      <td>0.8014</td>\n",
       "    </tr>\n",
       "    <tr>\n",
       "      <th>4</th>\n",
       "      <td>AutoML-AutoGluon-Stacking</td>\n",
       "      <td>0.8010</td>\n",
       "    </tr>\n",
       "  </tbody>\n",
       "</table>\n",
       "</div>"
      ],
      "text/plain": [
       "                       Model  Test Accuracy\n",
       "0              Decision Tree         0.7098\n",
       "1              Random Forest         0.7978\n",
       "2                    XGBoost         0.7986\n",
       "3              XGBoost-Tuned         0.8014\n",
       "4  AutoML-AutoGluon-Stacking         0.8010"
      ]
     },
     "execution_count": 59,
     "metadata": {},
     "output_type": "execute_result"
    }
   ],
   "source": [
    "df_eval = pd.DataFrame({'Model': ls_models, 'Test Accuracy': ls_accuracy})\n",
    "df_eval"
   ]
  },
  {
   "cell_type": "code",
   "execution_count": 76,
   "metadata": {},
   "outputs": [
    {
     "data": {
      "image/png": "[encoded data removed]",
      "text/plain": [
       "<Figure size 1296x432 with 1 Axes>"
      ]
     },
     "metadata": {},
     "output_type": "display_data"
    }
   ],
   "source": [
    "plt.figure(figsize=(18,6))\n",
    "plt.style.use('seaborn-poster')\n",
    "plt.style.use('seaborn-whitegrid')\n",
    "plt.bar(df_eval['Model'], df_eval['Test Accuracy'])\n",
    "plt.ylabel('Test Accuracy')\n",
    "plt.ylim(0.65, 0.85);\n",
    "plt.title('Machine Learning for Supersymmetric Signature Discovery - Beyond Standard Model Physics');"
   ]
  },
  {
   "cell_type": "markdown",
   "metadata": {},
   "source": [
    "We see that the biggest increase in model performance comes with the move to ensembling strategies (i.e., bagging, boosting, stacking), the differences in the ensembling strategies have only marginal effects (though boosting does outperform bagging as is generally expected). Note that the AutoML stacking strategies was only allowed to run briefly, performance will likely improve with additional computational resourcces devoted to this thrust. "
   ]
  }
 ],
 "metadata": {
  "kernelspec": {
   "display_name": "Python 3",
   "language": "python",
   "name": "python3"
  },
  "language_info": {
   "codemirror_mode": {
    "name": "ipython",
    "version": 3
   },
   "file_extension": ".py",
   "mimetype": "text/x-python",
   "name": "python",
   "nbconvert_exporter": "python",
   "pygments_lexer": "ipython3",
   "version": "3.8.5"
  }
 },
 "nbformat": 4,
 "nbformat_minor": 5
}
